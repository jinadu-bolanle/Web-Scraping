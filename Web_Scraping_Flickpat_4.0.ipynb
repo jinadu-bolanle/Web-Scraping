{
 "cells": [
  {
   "cell_type": "code",
   "execution_count": 1,
   "metadata": {},
   "outputs": [],
   "source": [
    "import requests \n",
    "from bs4 import BeautifulSoup as bs\n",
    "import pandas as pd"
   ]
  },
  {
   "cell_type": "code",
   "execution_count": 2,
   "metadata": {},
   "outputs": [],
   "source": [
    "name = []\n",
    "prices = []\n",
    "ratings = []\n",
    "df = pd.DataFrame()"
   ]
  },
  {
   "cell_type": "code",
   "execution_count": 4,
   "metadata": {},
   "outputs": [],
   "source": [
    "url = 'https://www.flipkart.com/search?q=laptops&otracker=search&otracker1=search&marketplace=FLIPKART&as-show=on&as=off'"
   ]
  },
  {
   "cell_type": "code",
   "execution_count": 5,
   "metadata": {},
   "outputs": [],
   "source": [
    "page = requests.get(url)\n",
    "html = page.content"
   ]
  },
  {
   "cell_type": "code",
   "execution_count": 6,
   "metadata": {},
   "outputs": [],
   "source": [
    "response = requests.get(url)"
   ]
  },
  {
   "cell_type": "code",
   "execution_count": 7,
   "metadata": {},
   "outputs": [
    {
     "data": {
      "text/plain": [
       "<Response [200]>"
      ]
     },
     "execution_count": 7,
     "metadata": {},
     "output_type": "execute_result"
    }
   ],
   "source": [
    "response"
   ]
  },
  {
   "cell_type": "code",
   "execution_count": 8,
   "metadata": {},
   "outputs": [],
   "source": [
    "soup = bs(response.text, 'html.parser')"
   ]
  },
  {
   "cell_type": "code",
   "execution_count": 9,
   "metadata": {},
   "outputs": [],
   "source": [
    "main_box= soup.find_all('div', {'class':'_3pLy-c row'})"
   ]
  },
  {
   "cell_type": "code",
   "execution_count": 10,
   "metadata": {},
   "outputs": [
    {
     "data": {
      "text/plain": [
       "24"
      ]
     },
     "execution_count": 10,
     "metadata": {},
     "output_type": "execute_result"
    }
   ],
   "source": [
    "len(main_box)"
   ]
  },
  {
   "cell_type": "code",
   "execution_count": 11,
   "metadata": {},
   "outputs": [],
   "source": [
    "box = main_box[0]"
   ]
  },
  {
   "cell_type": "code",
   "execution_count": 12,
   "metadata": {},
   "outputs": [
    {
     "data": {
      "text/plain": [
       "<div class=\"_3pLy-c row\"><div class=\"col col-7-12\"><div class=\"_4rR01T\">Lenovo IdeaPad 3 Chromebook Celeron Dual Core - (4 GB/64 GB EMMC Storage/Chrome OS) CB 11IGL05 Chromeb...</div><div class=\"gUuXy-\"><span class=\"_1lRcqv\" id=\"productRating_LSTCOMG6AKVN3KXNVY2LCOHHL_COMG6AKVN3KXNVY2_\"><div class=\"_3LWZlK\">3.4<img class=\"_1wB99o\" src=\"data:image/svg+xml;base64,PHN2ZyB4bWxucz0iaHR0cDovL3d3dy53My5vcmcvMjAwMC9zdmciIHdpZHRoPSIxMyIgaGVpZ2h0PSIxMiI+PHBhdGggZmlsbD0iI0ZGRiIgZD0iTTYuNSA5LjQzOWwtMy42NzQgMi4yMy45NC00LjI2LTMuMjEtMi44ODMgNC4yNTQtLjQwNEw2LjUuMTEybDEuNjkgNC4wMSA0LjI1NC40MDQtMy4yMSAyLjg4Mi45NCA0LjI2eiIvPjwvc3ZnPg==\"/></div></span><span class=\"_2_R_DZ\"><span><span>525 Ratings </span><span class=\"_13vcmD\">&amp;</span><span> 63 Reviews</span></span></span></div><div class=\"fMghEO\"><ul class=\"_1xgFaf\"><li class=\"rgWa7D\">Intel Celeron Dual Core Processor</li><li class=\"rgWa7D\">4 GB LPDDR4 RAM</li><li class=\"rgWa7D\">Chrome Operating System</li><li class=\"rgWa7D\">29.46 cm (11.6 Inch) Display</li><li class=\"rgWa7D\">1 Year Warranty</li></ul></div></div><div class=\"col col-5-12 nlI3QM\"><div class=\"_3tbKJL\"><div class=\"_25b18c\"><div class=\"_30jeq3 _1_WHN1\">₹15,990</div><div class=\"_3I9_wc _27UcVY\">₹<!-- -->24,840</div><div class=\"_3Ay6Sb\"><span>35% off</span></div></div><div class=\"_3tcB5a p8ucoS\"><div><div class=\"_2Tpdn3\" style=\"color:#000000;font-size:12px;font-style:normal;font-weight:400\">Free delivery</div></div></div></div><div class=\"_2ZdXDB\"><div class=\"_3xFhiH\"><div class=\"_2Tpdn3 _18hQoS\" style=\"color:#000000;font-size:14px;font-style:normal;font-weight:400\">Upto </div><div class=\"_2Tpdn3 _18hQoS\" style=\"color:#000000;font-size:14px;font-style:normal;font-weight:700\">₹15,075</div><div class=\"_2Tpdn3 _18hQoS\" style=\"color:#000000;font-size:14px;font-style:normal;font-weight:400\"> Off on Exchange</div></div></div><div class=\"_2ZdXDB\"><div class=\"_3xFhiH\"><div class=\"_2Tpdn3 _18hQoS\" style=\"color:#26A541;font-size:12px;font-weight:700\">Buy 2 items, save extra 2%</div></div></div></div></div>"
      ]
     },
     "execution_count": 12,
     "metadata": {},
     "output_type": "execute_result"
    }
   ],
   "source": [
    "box"
   ]
  },
  {
   "cell_type": "markdown",
   "metadata": {},
   "source": [
    "# Run the code and extract the data"
   ]
  },
  {
   "cell_type": "code",
   "execution_count": 31,
   "metadata": {},
   "outputs": [],
   "source": [
    "title = box.find('div', {'class':'_4rR01T'}).text.strip()\n",
    "price = box.find('div', {'class':'_30jeq3 _1_WHN1'}).text.strip()\n",
    "rating = box.find('div', {'class':'_3LWZlK'})"
   ]
  },
  {
   "cell_type": "code",
   "execution_count": 38,
   "metadata": {},
   "outputs": [],
   "source": [
    "data_list = []\n",
    "for box in main_box:\n",
    "    temp_dict={}\n",
    "    temp_dict['Title'] = box.find('div', {'class':'_4rR01T'}).text.strip()\n",
    "    temp_dict['Price'] =  box.find('div', {'class':'_30jeq3 _1_WHN1'}).text.replace('₹','').strip()\n",
    "    temp_dict['Rating'] =  box.find('div', {'class':'_3LWZlK'})\n",
    "    data_list.append(temp_dict)"
   ]
  },
  {
   "cell_type": "code",
   "execution_count": 33,
   "metadata": {},
   "outputs": [],
   "source": [
    "df = pd.DataFrame(data_list)"
   ]
  },
  {
   "cell_type": "code",
   "execution_count": 34,
   "metadata": {},
   "outputs": [
    {
     "data": {
      "text/html": [
       "<div>\n",
       "<style scoped>\n",
       "    .dataframe tbody tr th:only-of-type {\n",
       "        vertical-align: middle;\n",
       "    }\n",
       "\n",
       "    .dataframe tbody tr th {\n",
       "        vertical-align: top;\n",
       "    }\n",
       "\n",
       "    .dataframe thead th {\n",
       "        text-align: right;\n",
       "    }\n",
       "</style>\n",
       "<table border=\"1\" class=\"dataframe\">\n",
       "  <thead>\n",
       "    <tr style=\"text-align: right;\">\n",
       "      <th></th>\n",
       "      <th>Title</th>\n",
       "      <th>Price</th>\n",
       "      <th>Rating</th>\n",
       "    </tr>\n",
       "  </thead>\n",
       "  <tbody>\n",
       "    <tr>\n",
       "      <th>0</th>\n",
       "      <td>Lenovo IdeaPad 3 Chromebook Celeron Dual Core ...</td>\n",
       "      <td>15,990</td>\n",
       "      <td>[3.4, []]</td>\n",
       "    </tr>\n",
       "    <tr>\n",
       "      <th>1</th>\n",
       "      <td>DELL Core i7 11th Gen - (16 GB/512 GB SSD/Wind...</td>\n",
       "      <td>1,01,990</td>\n",
       "      <td>None</td>\n",
       "    </tr>\n",
       "    <tr>\n",
       "      <th>2</th>\n",
       "      <td>Lenovo IdeaPad 3 Core i3 11th Gen - (8 GB/512 ...</td>\n",
       "      <td>41,990</td>\n",
       "      <td>[4.4, []]</td>\n",
       "    </tr>\n",
       "    <tr>\n",
       "      <th>3</th>\n",
       "      <td>Lenovo IdeaPad 3 Core i3 10th Gen - (8 GB/256 ...</td>\n",
       "      <td>36,990</td>\n",
       "      <td>[4.4, []]</td>\n",
       "    </tr>\n",
       "    <tr>\n",
       "      <th>4</th>\n",
       "      <td>DELL Core i3 10th Gen - (8 GB/1 TB HDD/256 GB ...</td>\n",
       "      <td>39,990</td>\n",
       "      <td>[4.4, []]</td>\n",
       "    </tr>\n",
       "    <tr>\n",
       "      <th>5</th>\n",
       "      <td>HP Core i3 11th Gen - (8 GB/512 GB SSD/Windows...</td>\n",
       "      <td>41,490</td>\n",
       "      <td>[4.3, []]</td>\n",
       "    </tr>\n",
       "    <tr>\n",
       "      <th>6</th>\n",
       "      <td>HP Core i3 11th Gen - (8 GB/512 GB SSD/Windows...</td>\n",
       "      <td>42,990</td>\n",
       "      <td>[4.4, []]</td>\n",
       "    </tr>\n",
       "    <tr>\n",
       "      <th>7</th>\n",
       "      <td>DELL G15 Core i7 11th Gen - (16 GB/512 GB SSD/...</td>\n",
       "      <td>1,03,990</td>\n",
       "      <td>None</td>\n",
       "    </tr>\n",
       "    <tr>\n",
       "      <th>8</th>\n",
       "      <td>ASUS VivoBook 15 (2022) Core i3 10th Gen - (8 ...</td>\n",
       "      <td>37,990</td>\n",
       "      <td>[4.3, []]</td>\n",
       "    </tr>\n",
       "    <tr>\n",
       "      <th>9</th>\n",
       "      <td>HP Core i5 11th Gen - (8 GB/512 GB SSD/Windows...</td>\n",
       "      <td>53,990</td>\n",
       "      <td>[4.3, []]</td>\n",
       "    </tr>\n",
       "    <tr>\n",
       "      <th>10</th>\n",
       "      <td>Lenovo IdeaPad 3 Celeron Dual Core 4th Gen - (...</td>\n",
       "      <td>28,990</td>\n",
       "      <td>[4.1, []]</td>\n",
       "    </tr>\n",
       "    <tr>\n",
       "      <th>11</th>\n",
       "      <td>DELL Ryzen 5 Hexa Core 5600H - (16 GB/512 GB S...</td>\n",
       "      <td>75,990</td>\n",
       "      <td>[4.7, []]</td>\n",
       "    </tr>\n",
       "    <tr>\n",
       "      <th>12</th>\n",
       "      <td>Infinix INBook X1 Core i3 10th Gen - (8 GB/256...</td>\n",
       "      <td>32,990</td>\n",
       "      <td>[4.3, []]</td>\n",
       "    </tr>\n",
       "    <tr>\n",
       "      <th>13</th>\n",
       "      <td>HP Ryzen 3 Dual Core 3250U - (8 GB/256 GB SSD/...</td>\n",
       "      <td>35,990</td>\n",
       "      <td>[4.3, []]</td>\n",
       "    </tr>\n",
       "    <tr>\n",
       "      <th>14</th>\n",
       "      <td>Lenovo Core i3 10th Gen - (8 GB/512 GB SSD/Win...</td>\n",
       "      <td>38,990</td>\n",
       "      <td>[4.5, []]</td>\n",
       "    </tr>\n",
       "    <tr>\n",
       "      <th>15</th>\n",
       "      <td>MSI GF63 Thin Hexa Core i5 10th Gen - (8 GB/1 ...</td>\n",
       "      <td>57,990</td>\n",
       "      <td>[4.4, []]</td>\n",
       "    </tr>\n",
       "    <tr>\n",
       "      <th>16</th>\n",
       "      <td>Lenovo IdeaPad 3 Ryzen 5 Hexa Core 5500U - (8 ...</td>\n",
       "      <td>48,490</td>\n",
       "      <td>[4.3, []]</td>\n",
       "    </tr>\n",
       "    <tr>\n",
       "      <th>17</th>\n",
       "      <td>Infinix INBook X1 Core i3 10th Gen - (8 GB/256...</td>\n",
       "      <td>32,990</td>\n",
       "      <td>[4.3, []]</td>\n",
       "    </tr>\n",
       "    <tr>\n",
       "      <th>18</th>\n",
       "      <td>Infinix INBook X1 Core i3 10th Gen - (8 GB/256...</td>\n",
       "      <td>32,990</td>\n",
       "      <td>[4.3, []]</td>\n",
       "    </tr>\n",
       "    <tr>\n",
       "      <th>19</th>\n",
       "      <td>DELL Ryzen 7 Octa Core 5800H - (16 GB/512 GB S...</td>\n",
       "      <td>1,13,990</td>\n",
       "      <td>None</td>\n",
       "    </tr>\n",
       "    <tr>\n",
       "      <th>20</th>\n",
       "      <td>DELL Vostro Ryzen 3 Dual Core R3-3250U - (8 GB...</td>\n",
       "      <td>33,990</td>\n",
       "      <td>[4.2, []]</td>\n",
       "    </tr>\n",
       "    <tr>\n",
       "      <th>21</th>\n",
       "      <td>HP Ryzen 5 Hexa Core 5500U - (8 GB/512 GB SSD/...</td>\n",
       "      <td>48,440</td>\n",
       "      <td>[4.4, []]</td>\n",
       "    </tr>\n",
       "    <tr>\n",
       "      <th>22</th>\n",
       "      <td>Lenovo IdeaPad 3 Core i5 10th Gen - (8 GB/512 ...</td>\n",
       "      <td>47,990</td>\n",
       "      <td>[4.1, []]</td>\n",
       "    </tr>\n",
       "    <tr>\n",
       "      <th>23</th>\n",
       "      <td>DELL Ryzen 5 Hexa Core 5600H - (8 GB/512 GB SS...</td>\n",
       "      <td>70,990</td>\n",
       "      <td>None</td>\n",
       "    </tr>\n",
       "  </tbody>\n",
       "</table>\n",
       "</div>"
      ],
      "text/plain": [
       "                                                Title     Price     Rating\n",
       "0   Lenovo IdeaPad 3 Chromebook Celeron Dual Core ...    15,990  [3.4, []]\n",
       "1   DELL Core i7 11th Gen - (16 GB/512 GB SSD/Wind...  1,01,990       None\n",
       "2   Lenovo IdeaPad 3 Core i3 11th Gen - (8 GB/512 ...    41,990  [4.4, []]\n",
       "3   Lenovo IdeaPad 3 Core i3 10th Gen - (8 GB/256 ...    36,990  [4.4, []]\n",
       "4   DELL Core i3 10th Gen - (8 GB/1 TB HDD/256 GB ...    39,990  [4.4, []]\n",
       "5   HP Core i3 11th Gen - (8 GB/512 GB SSD/Windows...    41,490  [4.3, []]\n",
       "6   HP Core i3 11th Gen - (8 GB/512 GB SSD/Windows...    42,990  [4.4, []]\n",
       "7   DELL G15 Core i7 11th Gen - (16 GB/512 GB SSD/...  1,03,990       None\n",
       "8   ASUS VivoBook 15 (2022) Core i3 10th Gen - (8 ...    37,990  [4.3, []]\n",
       "9   HP Core i5 11th Gen - (8 GB/512 GB SSD/Windows...    53,990  [4.3, []]\n",
       "10  Lenovo IdeaPad 3 Celeron Dual Core 4th Gen - (...    28,990  [4.1, []]\n",
       "11  DELL Ryzen 5 Hexa Core 5600H - (16 GB/512 GB S...    75,990  [4.7, []]\n",
       "12  Infinix INBook X1 Core i3 10th Gen - (8 GB/256...    32,990  [4.3, []]\n",
       "13  HP Ryzen 3 Dual Core 3250U - (8 GB/256 GB SSD/...    35,990  [4.3, []]\n",
       "14  Lenovo Core i3 10th Gen - (8 GB/512 GB SSD/Win...    38,990  [4.5, []]\n",
       "15  MSI GF63 Thin Hexa Core i5 10th Gen - (8 GB/1 ...    57,990  [4.4, []]\n",
       "16  Lenovo IdeaPad 3 Ryzen 5 Hexa Core 5500U - (8 ...    48,490  [4.3, []]\n",
       "17  Infinix INBook X1 Core i3 10th Gen - (8 GB/256...    32,990  [4.3, []]\n",
       "18  Infinix INBook X1 Core i3 10th Gen - (8 GB/256...    32,990  [4.3, []]\n",
       "19  DELL Ryzen 7 Octa Core 5800H - (16 GB/512 GB S...  1,13,990       None\n",
       "20  DELL Vostro Ryzen 3 Dual Core R3-3250U - (8 GB...    33,990  [4.2, []]\n",
       "21  HP Ryzen 5 Hexa Core 5500U - (8 GB/512 GB SSD/...    48,440  [4.4, []]\n",
       "22  Lenovo IdeaPad 3 Core i5 10th Gen - (8 GB/512 ...    47,990  [4.1, []]\n",
       "23  DELL Ryzen 5 Hexa Core 5600H - (8 GB/512 GB SS...    70,990       None"
      ]
     },
     "execution_count": 34,
     "metadata": {},
     "output_type": "execute_result"
    }
   ],
   "source": [
    "df"
   ]
  },
  {
   "cell_type": "code",
   "execution_count": 39,
   "metadata": {},
   "outputs": [],
   "source": [
    "df.to_csv('LapTops.csv', index=False, encoding = 'utf-8')"
   ]
  },
  {
   "cell_type": "code",
   "execution_count": 40,
   "metadata": {},
   "outputs": [
    {
     "data": {
      "text/html": [
       "<div>\n",
       "<style scoped>\n",
       "    .dataframe tbody tr th:only-of-type {\n",
       "        vertical-align: middle;\n",
       "    }\n",
       "\n",
       "    .dataframe tbody tr th {\n",
       "        vertical-align: top;\n",
       "    }\n",
       "\n",
       "    .dataframe thead th {\n",
       "        text-align: right;\n",
       "    }\n",
       "</style>\n",
       "<table border=\"1\" class=\"dataframe\">\n",
       "  <thead>\n",
       "    <tr style=\"text-align: right;\">\n",
       "      <th></th>\n",
       "      <th>Title</th>\n",
       "      <th>Price</th>\n",
       "      <th>Rating</th>\n",
       "    </tr>\n",
       "  </thead>\n",
       "  <tbody>\n",
       "    <tr>\n",
       "      <th>0</th>\n",
       "      <td>Lenovo IdeaPad 3 Chromebook Celeron Dual Core ...</td>\n",
       "      <td>15,990</td>\n",
       "      <td>[3.4, []]</td>\n",
       "    </tr>\n",
       "    <tr>\n",
       "      <th>1</th>\n",
       "      <td>DELL Core i7 11th Gen - (16 GB/512 GB SSD/Wind...</td>\n",
       "      <td>1,01,990</td>\n",
       "      <td>None</td>\n",
       "    </tr>\n",
       "    <tr>\n",
       "      <th>2</th>\n",
       "      <td>Lenovo IdeaPad 3 Core i3 11th Gen - (8 GB/512 ...</td>\n",
       "      <td>41,990</td>\n",
       "      <td>[4.4, []]</td>\n",
       "    </tr>\n",
       "  </tbody>\n",
       "</table>\n",
       "</div>"
      ],
      "text/plain": [
       "                                               Title     Price     Rating\n",
       "0  Lenovo IdeaPad 3 Chromebook Celeron Dual Core ...    15,990  [3.4, []]\n",
       "1  DELL Core i7 11th Gen - (16 GB/512 GB SSD/Wind...  1,01,990       None\n",
       "2  Lenovo IdeaPad 3 Core i3 11th Gen - (8 GB/512 ...    41,990  [4.4, []]"
      ]
     },
     "execution_count": 40,
     "metadata": {},
     "output_type": "execute_result"
    }
   ],
   "source": [
    "df.head(3)"
   ]
  },
  {
   "cell_type": "code",
   "execution_count": 44,
   "metadata": {},
   "outputs": [
    {
     "name": "stderr",
     "output_type": "stream",
     "text": [
      "<ipython-input-44-a3146fae9393>:1: FutureWarning: Columnar iteration over characters will be deprecated in future releases.\n",
      "  df['Model'], df['Spec'] =df['Title'].str.split('-', 1).str\n"
     ]
    },
    {
     "data": {
      "text/html": [
       "<div>\n",
       "<style scoped>\n",
       "    .dataframe tbody tr th:only-of-type {\n",
       "        vertical-align: middle;\n",
       "    }\n",
       "\n",
       "    .dataframe tbody tr th {\n",
       "        vertical-align: top;\n",
       "    }\n",
       "\n",
       "    .dataframe thead th {\n",
       "        text-align: right;\n",
       "    }\n",
       "</style>\n",
       "<table border=\"1\" class=\"dataframe\">\n",
       "  <thead>\n",
       "    <tr style=\"text-align: right;\">\n",
       "      <th></th>\n",
       "      <th>Price</th>\n",
       "      <th>Rating</th>\n",
       "      <th>Model</th>\n",
       "      <th>Spec</th>\n",
       "    </tr>\n",
       "  </thead>\n",
       "  <tbody>\n",
       "    <tr>\n",
       "      <th>0</th>\n",
       "      <td>15,990</td>\n",
       "      <td>[3.4, []]</td>\n",
       "      <td>Lenovo IdeaPad 3 Chromebook Celeron Dual Core</td>\n",
       "      <td>(4 GB/64 GB EMMC Storage/Chrome OS) CB 11IGL0...</td>\n",
       "    </tr>\n",
       "    <tr>\n",
       "      <th>1</th>\n",
       "      <td>1,01,990</td>\n",
       "      <td>None</td>\n",
       "      <td>DELL Core i7 11th Gen</td>\n",
       "      <td>(16 GB/512 GB SSD/Windows 11 Home/4 GB Graphi...</td>\n",
       "    </tr>\n",
       "    <tr>\n",
       "      <th>2</th>\n",
       "      <td>41,990</td>\n",
       "      <td>[4.4, []]</td>\n",
       "      <td>Lenovo IdeaPad 3 Core i3 11th Gen</td>\n",
       "      <td>(8 GB/512 GB SSD/Windows 11 Home) 15ITL6 Thin...</td>\n",
       "    </tr>\n",
       "  </tbody>\n",
       "</table>\n",
       "</div>"
      ],
      "text/plain": [
       "      Price     Rating                                           Model  \\\n",
       "0    15,990  [3.4, []]  Lenovo IdeaPad 3 Chromebook Celeron Dual Core    \n",
       "1  1,01,990       None                          DELL Core i7 11th Gen    \n",
       "2    41,990  [4.4, []]              Lenovo IdeaPad 3 Core i3 11th Gen    \n",
       "\n",
       "                                                Spec  \n",
       "0   (4 GB/64 GB EMMC Storage/Chrome OS) CB 11IGL0...  \n",
       "1   (16 GB/512 GB SSD/Windows 11 Home/4 GB Graphi...  \n",
       "2   (8 GB/512 GB SSD/Windows 11 Home) 15ITL6 Thin...  "
      ]
     },
     "execution_count": 44,
     "metadata": {},
     "output_type": "execute_result"
    }
   ],
   "source": [
    "df['Model'], df['Spec'] =df['Title'].str.split('-', 1).str\n",
    "del df['Title']\n",
    "df.head(3)"
   ]
  },
  {
   "cell_type": "code",
   "execution_count": 45,
   "metadata": {},
   "outputs": [
    {
     "name": "stderr",
     "output_type": "stream",
     "text": [
      "<ipython-input-45-24873d16a1da>:1: FutureWarning: Columnar iteration over characters will be deprecated in future releases.\n",
      "  df['Ram'], df['HDD'] = df['Spec'].str.split('(',1).str\n"
     ]
    },
    {
     "data": {
      "text/html": [
       "<div>\n",
       "<style scoped>\n",
       "    .dataframe tbody tr th:only-of-type {\n",
       "        vertical-align: middle;\n",
       "    }\n",
       "\n",
       "    .dataframe tbody tr th {\n",
       "        vertical-align: top;\n",
       "    }\n",
       "\n",
       "    .dataframe thead th {\n",
       "        text-align: right;\n",
       "    }\n",
       "</style>\n",
       "<table border=\"1\" class=\"dataframe\">\n",
       "  <thead>\n",
       "    <tr style=\"text-align: right;\">\n",
       "      <th></th>\n",
       "      <th>Price</th>\n",
       "      <th>Rating</th>\n",
       "      <th>Model</th>\n",
       "      <th>Ram</th>\n",
       "      <th>HDD</th>\n",
       "    </tr>\n",
       "  </thead>\n",
       "  <tbody>\n",
       "    <tr>\n",
       "      <th>0</th>\n",
       "      <td>15,990</td>\n",
       "      <td>[3.4, []]</td>\n",
       "      <td>Lenovo IdeaPad 3 Chromebook Celeron Dual Core</td>\n",
       "      <td></td>\n",
       "      <td>4 GB/64 GB EMMC Storage/Chrome OS) CB 11IGL05 ...</td>\n",
       "    </tr>\n",
       "    <tr>\n",
       "      <th>1</th>\n",
       "      <td>1,01,990</td>\n",
       "      <td>None</td>\n",
       "      <td>DELL Core i7 11th Gen</td>\n",
       "      <td></td>\n",
       "      <td>16 GB/512 GB SSD/Windows 11 Home/4 GB Graphics...</td>\n",
       "    </tr>\n",
       "    <tr>\n",
       "      <th>2</th>\n",
       "      <td>41,990</td>\n",
       "      <td>[4.4, []]</td>\n",
       "      <td>Lenovo IdeaPad 3 Core i3 11th Gen</td>\n",
       "      <td></td>\n",
       "      <td>8 GB/512 GB SSD/Windows 11 Home) 15ITL6 Thin a...</td>\n",
       "    </tr>\n",
       "    <tr>\n",
       "      <th>3</th>\n",
       "      <td>36,990</td>\n",
       "      <td>[4.4, []]</td>\n",
       "      <td>Lenovo IdeaPad 3 Core i3 10th Gen</td>\n",
       "      <td></td>\n",
       "      <td>8 GB/256 GB SSD/Windows 11 Home) 15IML05 Thin ...</td>\n",
       "    </tr>\n",
       "    <tr>\n",
       "      <th>4</th>\n",
       "      <td>39,990</td>\n",
       "      <td>[4.4, []]</td>\n",
       "      <td>DELL Core i3 10th Gen</td>\n",
       "      <td></td>\n",
       "      <td>8 GB/1 TB HDD/256 GB SSD/Windows 11 Home) Vost...</td>\n",
       "    </tr>\n",
       "  </tbody>\n",
       "</table>\n",
       "</div>"
      ],
      "text/plain": [
       "      Price     Rating                                           Model Ram  \\\n",
       "0    15,990  [3.4, []]  Lenovo IdeaPad 3 Chromebook Celeron Dual Core        \n",
       "1  1,01,990       None                          DELL Core i7 11th Gen        \n",
       "2    41,990  [4.4, []]              Lenovo IdeaPad 3 Core i3 11th Gen        \n",
       "3    36,990  [4.4, []]              Lenovo IdeaPad 3 Core i3 10th Gen        \n",
       "4    39,990  [4.4, []]                          DELL Core i3 10th Gen        \n",
       "\n",
       "                                                 HDD  \n",
       "0  4 GB/64 GB EMMC Storage/Chrome OS) CB 11IGL05 ...  \n",
       "1  16 GB/512 GB SSD/Windows 11 Home/4 GB Graphics...  \n",
       "2  8 GB/512 GB SSD/Windows 11 Home) 15ITL6 Thin a...  \n",
       "3  8 GB/256 GB SSD/Windows 11 Home) 15IML05 Thin ...  \n",
       "4  8 GB/1 TB HDD/256 GB SSD/Windows 11 Home) Vost...  "
      ]
     },
     "execution_count": 45,
     "metadata": {},
     "output_type": "execute_result"
    }
   ],
   "source": [
    "df['Ram'], df['HDD'] = df['Spec'].str.split('(',1).str\n",
    "del df['Spec']\n",
    "df.head()"
   ]
  },
  {
   "cell_type": "code",
   "execution_count": 46,
   "metadata": {},
   "outputs": [
    {
     "name": "stderr",
     "output_type": "stream",
     "text": [
      "<ipython-input-46-bf94f3591387>:1: FutureWarning: Columnar iteration over characters will be deprecated in future releases.\n",
      "  df['Ram'], df['Hard Disc']= df['HDD'].str.split('/', 1).str\n"
     ]
    },
    {
     "data": {
      "text/html": [
       "<div>\n",
       "<style scoped>\n",
       "    .dataframe tbody tr th:only-of-type {\n",
       "        vertical-align: middle;\n",
       "    }\n",
       "\n",
       "    .dataframe tbody tr th {\n",
       "        vertical-align: top;\n",
       "    }\n",
       "\n",
       "    .dataframe thead th {\n",
       "        text-align: right;\n",
       "    }\n",
       "</style>\n",
       "<table border=\"1\" class=\"dataframe\">\n",
       "  <thead>\n",
       "    <tr style=\"text-align: right;\">\n",
       "      <th></th>\n",
       "      <th>Price</th>\n",
       "      <th>Rating</th>\n",
       "      <th>Model</th>\n",
       "      <th>Ram</th>\n",
       "      <th>Hard Disc</th>\n",
       "    </tr>\n",
       "  </thead>\n",
       "  <tbody>\n",
       "    <tr>\n",
       "      <th>0</th>\n",
       "      <td>15,990</td>\n",
       "      <td>[3.4, []]</td>\n",
       "      <td>Lenovo IdeaPad 3 Chromebook Celeron Dual Core</td>\n",
       "      <td>4 GB</td>\n",
       "      <td>64 GB EMMC Storage/Chrome OS) CB 11IGL05 Chrom...</td>\n",
       "    </tr>\n",
       "    <tr>\n",
       "      <th>1</th>\n",
       "      <td>1,01,990</td>\n",
       "      <td>None</td>\n",
       "      <td>DELL Core i7 11th Gen</td>\n",
       "      <td>16 GB</td>\n",
       "      <td>512 GB SSD/Windows 11 Home/4 GB Graphics/NVIDI...</td>\n",
       "    </tr>\n",
       "    <tr>\n",
       "      <th>2</th>\n",
       "      <td>41,990</td>\n",
       "      <td>[4.4, []]</td>\n",
       "      <td>Lenovo IdeaPad 3 Core i3 11th Gen</td>\n",
       "      <td>8 GB</td>\n",
       "      <td>512 GB SSD/Windows 11 Home) 15ITL6 Thin and Li...</td>\n",
       "    </tr>\n",
       "    <tr>\n",
       "      <th>3</th>\n",
       "      <td>36,990</td>\n",
       "      <td>[4.4, []]</td>\n",
       "      <td>Lenovo IdeaPad 3 Core i3 10th Gen</td>\n",
       "      <td>8 GB</td>\n",
       "      <td>256 GB SSD/Windows 11 Home) 15IML05 Thin and L...</td>\n",
       "    </tr>\n",
       "    <tr>\n",
       "      <th>4</th>\n",
       "      <td>39,990</td>\n",
       "      <td>[4.4, []]</td>\n",
       "      <td>DELL Core i3 10th Gen</td>\n",
       "      <td>8 GB</td>\n",
       "      <td>1 TB HDD/256 GB SSD/Windows 11 Home) Vostro 35...</td>\n",
       "    </tr>\n",
       "  </tbody>\n",
       "</table>\n",
       "</div>"
      ],
      "text/plain": [
       "      Price     Rating                                           Model    Ram  \\\n",
       "0    15,990  [3.4, []]  Lenovo IdeaPad 3 Chromebook Celeron Dual Core    4 GB   \n",
       "1  1,01,990       None                          DELL Core i7 11th Gen   16 GB   \n",
       "2    41,990  [4.4, []]              Lenovo IdeaPad 3 Core i3 11th Gen    8 GB   \n",
       "3    36,990  [4.4, []]              Lenovo IdeaPad 3 Core i3 10th Gen    8 GB   \n",
       "4    39,990  [4.4, []]                          DELL Core i3 10th Gen    8 GB   \n",
       "\n",
       "                                           Hard Disc  \n",
       "0  64 GB EMMC Storage/Chrome OS) CB 11IGL05 Chrom...  \n",
       "1  512 GB SSD/Windows 11 Home/4 GB Graphics/NVIDI...  \n",
       "2  512 GB SSD/Windows 11 Home) 15ITL6 Thin and Li...  \n",
       "3  256 GB SSD/Windows 11 Home) 15IML05 Thin and L...  \n",
       "4  1 TB HDD/256 GB SSD/Windows 11 Home) Vostro 35...  "
      ]
     },
     "execution_count": 46,
     "metadata": {},
     "output_type": "execute_result"
    }
   ],
   "source": [
    "df['Ram'], df['Hard Disc']= df['HDD'].str.split('/', 1).str\n",
    "del df['HDD']\n",
    "df.head()"
   ]
  },
  {
   "cell_type": "code",
   "execution_count": 50,
   "metadata": {},
   "outputs": [],
   "source": [
    "# to rename the field,\n",
    "df.rename(columns={'Price':'Model_Price', 'Rating':'M_Rating'}, inplace =True)"
   ]
  },
  {
   "cell_type": "code",
   "execution_count": 51,
   "metadata": {},
   "outputs": [
    {
     "data": {
      "text/html": [
       "<div>\n",
       "<style scoped>\n",
       "    .dataframe tbody tr th:only-of-type {\n",
       "        vertical-align: middle;\n",
       "    }\n",
       "\n",
       "    .dataframe tbody tr th {\n",
       "        vertical-align: top;\n",
       "    }\n",
       "\n",
       "    .dataframe thead th {\n",
       "        text-align: right;\n",
       "    }\n",
       "</style>\n",
       "<table border=\"1\" class=\"dataframe\">\n",
       "  <thead>\n",
       "    <tr style=\"text-align: right;\">\n",
       "      <th></th>\n",
       "      <th>Model_Price</th>\n",
       "      <th>M_Rating</th>\n",
       "      <th>Model</th>\n",
       "      <th>Ram</th>\n",
       "      <th>Hard Disc</th>\n",
       "    </tr>\n",
       "  </thead>\n",
       "  <tbody>\n",
       "    <tr>\n",
       "      <th>0</th>\n",
       "      <td>15,990</td>\n",
       "      <td>[3.4, []]</td>\n",
       "      <td>Lenovo IdeaPad 3 Chromebook Celeron Dual Core</td>\n",
       "      <td>4 GB</td>\n",
       "      <td>64 GB EMMC Storage/Chrome OS) CB 11IGL05 Chrom...</td>\n",
       "    </tr>\n",
       "    <tr>\n",
       "      <th>1</th>\n",
       "      <td>1,01,990</td>\n",
       "      <td>None</td>\n",
       "      <td>DELL Core i7 11th Gen</td>\n",
       "      <td>16 GB</td>\n",
       "      <td>512 GB SSD/Windows 11 Home/4 GB Graphics/NVIDI...</td>\n",
       "    </tr>\n",
       "    <tr>\n",
       "      <th>2</th>\n",
       "      <td>41,990</td>\n",
       "      <td>[4.4, []]</td>\n",
       "      <td>Lenovo IdeaPad 3 Core i3 11th Gen</td>\n",
       "      <td>8 GB</td>\n",
       "      <td>512 GB SSD/Windows 11 Home) 15ITL6 Thin and Li...</td>\n",
       "    </tr>\n",
       "    <tr>\n",
       "      <th>3</th>\n",
       "      <td>36,990</td>\n",
       "      <td>[4.4, []]</td>\n",
       "      <td>Lenovo IdeaPad 3 Core i3 10th Gen</td>\n",
       "      <td>8 GB</td>\n",
       "      <td>256 GB SSD/Windows 11 Home) 15IML05 Thin and L...</td>\n",
       "    </tr>\n",
       "    <tr>\n",
       "      <th>4</th>\n",
       "      <td>39,990</td>\n",
       "      <td>[4.4, []]</td>\n",
       "      <td>DELL Core i3 10th Gen</td>\n",
       "      <td>8 GB</td>\n",
       "      <td>1 TB HDD/256 GB SSD/Windows 11 Home) Vostro 35...</td>\n",
       "    </tr>\n",
       "  </tbody>\n",
       "</table>\n",
       "</div>"
      ],
      "text/plain": [
       "  Model_Price   M_Rating                                           Model  \\\n",
       "0      15,990  [3.4, []]  Lenovo IdeaPad 3 Chromebook Celeron Dual Core    \n",
       "1    1,01,990       None                          DELL Core i7 11th Gen    \n",
       "2      41,990  [4.4, []]              Lenovo IdeaPad 3 Core i3 11th Gen    \n",
       "3      36,990  [4.4, []]              Lenovo IdeaPad 3 Core i3 10th Gen    \n",
       "4      39,990  [4.4, []]                          DELL Core i3 10th Gen    \n",
       "\n",
       "     Ram                                          Hard Disc  \n",
       "0   4 GB  64 GB EMMC Storage/Chrome OS) CB 11IGL05 Chrom...  \n",
       "1  16 GB  512 GB SSD/Windows 11 Home/4 GB Graphics/NVIDI...  \n",
       "2   8 GB  512 GB SSD/Windows 11 Home) 15ITL6 Thin and Li...  \n",
       "3   8 GB  256 GB SSD/Windows 11 Home) 15IML05 Thin and L...  \n",
       "4   8 GB  1 TB HDD/256 GB SSD/Windows 11 Home) Vostro 35...  "
      ]
     },
     "execution_count": 51,
     "metadata": {},
     "output_type": "execute_result"
    }
   ],
   "source": [
    "df.head()"
   ]
  },
  {
   "cell_type": "code",
   "execution_count": null,
   "metadata": {},
   "outputs": [],
   "source": []
  }
 ],
 "metadata": {
  "kernelspec": {
   "display_name": "Python 3",
   "language": "python",
   "name": "python3"
  },
  "language_info": {
   "codemirror_mode": {
    "name": "ipython",
    "version": 3
   },
   "file_extension": ".py",
   "mimetype": "text/x-python",
   "name": "python",
   "nbconvert_exporter": "python",
   "pygments_lexer": "ipython3",
   "version": "3.8.5"
  }
 },
 "nbformat": 4,
 "nbformat_minor": 4
}
